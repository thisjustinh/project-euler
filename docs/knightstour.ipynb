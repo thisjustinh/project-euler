{
 "cells": [
  {
   "cell_type": "markdown",
   "metadata": {},
   "source": [
    "# Knight's Tour and Graphs"
   ]
  },
  {
   "cell_type": "markdown",
   "metadata": {},
   "source": [
    "## Graphs\n",
    "\n",
    "Consider the following implementation of a Graph class in Python:"
   ]
  },
  {
   "cell_type": "code",
   "execution_count": null,
   "metadata": {},
   "outputs": [],
   "source": [
    "class Graph:\n",
    "\n",
    "    def __init__(self):\n",
    "        self.count = 0\n",
    "        self.g = []\n",
    "\n",
    "    def insert_vertex(self, value=None):\n",
    "        self.count += 1\n",
    "        self.g.append([d, []])\n",
    "\n",
    "    def insert_edge(self, u, v, d):\n",
    "        self.g[u][1].append([v, value])\n",
    "\n",
    "    def set_vertex_data(self, v, value):\n",
    "        self.g[v][0] = value\n",
    "    \n",
    "    def set_edge_data(self, u, v, value):\n",
    "        for w in self.g[u][1]:\n",
    "            if w[0] == v:\n",
    "                w[1] = value\n",
    "                return\n",
    "\n",
    "    def gen_adj_matrix(self, u, value) -> list:\n",
    "        matrix = []\n",
    "        if u < 0 or u >= self.count or len(self.g[u][1]) == 0:\n",
    "            return None\n",
    "\n",
    "        for i in range(0, len(self.g[u][1])):\n",
    "            if self.g[u][1][i][1] == value:\n",
    "                matrix.append(self.g[u][1][i][0])\n",
    "        return matrix\n",
    "\n",
    "    def __str__(self) -> str:\n",
    "        string = ['graph = [\\n']\n",
    "        for i in range(len(self.g)):\n",
    "            string.append(str(self.g[i]), '#', i, '\\n')\n",
    "        string.append(']\\n')\n",
    "        return ''.join(string)"
   ]
  },
  {
   "cell_type": "markdown",
   "metadata": {},
   "source": [
    "Let's look at the graph's attributes and methods.\n",
    "\n",
    "* `self.count` tracks the number of vertices (nodes) in the graph currently.\n",
    "* `self.g` stores the vertices in the graph. Each vertex is represented by a list `[value, [adjacent_value, ]]`"
   ]
  }
 ],
 "metadata": {
  "language_info": {
   "codemirror_mode": {
    "name": "ipython",
    "version": 3
   },
   "file_extension": ".py",
   "mimetype": "text/x-python",
   "name": "python",
   "nbconvert_exporter": "python",
   "pygments_lexer": "ipython3",
   "version": "3.8.3-final"
  },
  "orig_nbformat": 2,
  "kernelspec": {
   "name": "python38364bitprojecteulerpipenv0ede3b33588c47b495f8567323a6f856",
   "display_name": "Python 3.8.3 64-bit ('project-euler': pipenv)"
  }
 },
 "nbformat": 4,
 "nbformat_minor": 2
}